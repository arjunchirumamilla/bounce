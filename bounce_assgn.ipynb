{
  "nbformat": 4,
  "nbformat_minor": 0,
  "metadata": {
    "colab": {
      "name": "bounce_assgn.ipynb",
      "provenance": [],
      "collapsed_sections": [],
      "authorship_tag": "ABX9TyMSeI6qnHwN97kEJkxKoScR",
      "include_colab_link": true
    },
    "kernelspec": {
      "name": "python3",
      "display_name": "Python 3"
    },
    "language_info": {
      "name": "python"
    }
  },
  "cells": [
    {
      "cell_type": "markdown",
      "metadata": {
        "id": "view-in-github",
        "colab_type": "text"
      },
      "source": [
        "<a href=\"https://colab.research.google.com/github/pavan-elisetty/bounce_assgn/blob/main/bounce_assgn.ipynb\" target=\"_parent\"><img src=\"https://colab.research.google.com/assets/colab-badge.svg\" alt=\"Open In Colab\"/></a>"
      ]
    },
    {
      "cell_type": "code",
      "metadata": {
        "id": "Otqyxs2N2Ob1",
        "colab": {
          "base_uri": "https://localhost:8080/"
        },
        "outputId": "7009aff1-5c8c-42eb-9ba5-ad1c71eaba32"
      },
      "source": [
        "!pip install haversine \n",
        "import pandas as pd\n",
        "import numpy as np\n",
        "from haversine import haversine as hav"
      ],
      "execution_count": 1,
      "outputs": [
        {
          "output_type": "stream",
          "name": "stdout",
          "text": [
            "Requirement already satisfied: haversine in /usr/local/lib/python3.7/dist-packages (2.5.1)\n"
          ]
        }
      ]
    },
    {
      "cell_type": "code",
      "metadata": {
        "id": "VefC9xEi3Mj1"
      },
      "source": [
        "drop = pd.read_excel('https://github.com/pavan-elisetty/bounce_assgn/blob/main/drop.xlsx?raw=true')\n",
        "pickup = pd.read_excel('https://github.com/pavan-elisetty/bounce_assgn/blob/main/pickup.xlsx?raw=true')"
      ],
      "execution_count": 2,
      "outputs": []
    },
    {
      "cell_type": "code",
      "metadata": {
        "id": "bpkGX7k13nbB"
      },
      "source": [
        "drop['count']=0\n",
        "drop['count reach']=False\n",
        "def count_check_max(x):\n",
        "  if x>120:\n",
        "    maxi=8\n",
        "  elif x>=100 and x<120:\n",
        "    maxi=4\n",
        "  elif x>=50 and x<100:\n",
        "    maxi=3\n",
        "  elif x>=30 and x<50:\n",
        "    maxi=2\n",
        "  elif x>=20 and x<30:\n",
        "    maxi=1\n",
        "  elif x>=10 and x<20:\n",
        "    maxi=1\n",
        "  else:\n",
        "    maxi=0\n",
        "  return maxi\n",
        "\n",
        "\n",
        "def count_check_min(x):\n",
        "  if x>120:\n",
        "    mini=6\n",
        "  elif x>=100 and x<120:\n",
        "    mini=2\n",
        "  elif x>=50 and x<100:\n",
        "    mini=2\n",
        "  elif x>=30 and x<50:\n",
        "    mini=1\n",
        "  elif x>=20 and x<30:\n",
        "    mini=1\n",
        "  elif x>=10 and x<20:\n",
        "    mini=0\n",
        "  else:\n",
        "    mini=0\n",
        "  return mini\n",
        "drop2=drop.copy()\n",
        "drop2['dist']=0\n",
        "drop2['maxi']=[count_check_max(i) for i in drop2['avg_daily_sessions/supply']]\n",
        "drop2['mini']=0\n",
        "drop2['mini']=[count_check_min(i) for i in drop2['avg_daily_sessions/supply']]\n",
        "drop2['matched']=[[] for i in range(drop2['drop hex'].nunique())]\n",
        "pickup2=pickup.copy()\n",
        "pickup2['matched']=False"
      ],
      "execution_count": 3,
      "outputs": []
    },
    {
      "cell_type": "code",
      "metadata": {
        "id": "H211Ap7GGaXG"
      },
      "source": [
        "for i in range(drop2['drop hex'].nunique()):\n",
        "  hex=drop2.iloc[i][1]\n",
        "  lat=drop2.iloc[i][2]\n",
        "  lon=drop2.iloc[i][3]\n",
        "  maxi=drop2.iloc[i][8]\n",
        "  mini=drop2.iloc[i][9]\n",
        "  if mini==0 or maxi==0:\n",
        "    continue\n",
        "  pickup2['dist']=0\n",
        "  pickup2['dist']=[(hav((lat,lon),(pickup2.iloc[j][2],pickup2.iloc[j][3]),unit='km')) if (pickup2['matched'][j]!=True) else print('') for j in range(len(pickup2))]\n",
        "  junk=pickup2.loc[pickup2.matched==False]\n",
        "  tmp=list(junk.nsmallest(mini,'dist')['bike_id'].values)\n",
        "  \n",
        "  for j in tmp:\n",
        "    pickup2.loc[pickup2['bike_id']==j,'matched']=True\n",
        "    drop2['matched'][i].append(int(j))"
      ],
      "execution_count": null,
      "outputs": []
    },
    {
      "cell_type": "code",
      "metadata": {
        "id": "5xFuSilbYtpC"
      },
      "source": [
        "drop2['min_reach']=[True if len(drop2['matched'][i])>0 else False for i in range(len(drop2))]"
      ],
      "execution_count": 5,
      "outputs": []
    },
    {
      "cell_type": "code",
      "metadata": {
        "id": "4VF4f-fdgwQ8"
      },
      "source": [
        "drop2['count']=[drop2['maxi'][i]-drop2['mini'][i] for i in range(len(drop2))]"
      ],
      "execution_count": 6,
      "outputs": []
    },
    {
      "cell_type": "code",
      "metadata": {
        "id": "I8zEiZ4gOmqn"
      },
      "source": [
        "for i in range(drop2['drop hex'].nunique()):\n",
        "  hex=drop2.iloc[i][1]\n",
        "  lat=drop2.iloc[i][2]\n",
        "  lon=drop2.iloc[i][3]\n",
        "  maxi=drop2.iloc[i][8]\n",
        "  mini=drop2.iloc[i][9]\n",
        "  count=drop2.iloc[i][5]\n",
        "  if count==0:\n",
        "    continue\n",
        "  pickup2['dist']=0\n",
        "  pickup2['dist']=[(hav((lat,lon),(pickup2.iloc[j][2],pickup2.iloc[j][3]),unit='km')) if (pickup2['matched'][j]!=True) else print('') for j in range(len(pickup2))]\n",
        "  junk=pickup2.loc[pickup2.matched==False]\n",
        "  tmp=list(junk.nsmallest(count,'dist')['bike_id'].values)\n",
        "  min=junk.loc[junk.bike_id==tmp[0]]\n",
        "  if (hav((lat,lon),(min.lat,min.lon),unit='km'))>4 :\n",
        "    continue\n",
        "  \n",
        "  for j in tmp:\n",
        "    min=junk.loc[junk.bike_id==j]\n",
        "    if (hav((lat,lon),(min.lat,min.lon),unit='km'))>4 :\n",
        "      continue\n",
        "    pickup2.loc[pickup2['bike_id']==j,'matched']=True\n",
        "    drop2['matched'][i].append(int(j))\n",
        "    drop2.loc[drop2['drop hex']==hex,'count']=drop2['count'][i]-1\n",
        "  "
      ],
      "execution_count": null,
      "outputs": []
    },
    {
      "cell_type": "code",
      "metadata": {
        "colab": {
          "base_uri": "https://localhost:8080/",
          "height": 203
        },
        "id": "wNYEPUQ0swd9",
        "outputId": "36034d64-e7fd-4bc2-c54c-e09dff68585a"
      },
      "source": [
        "drop2=drop2.drop(['count','count reach','dist','maxi','mini','min_reach'],axis=1)\n",
        "drop2.head()"
      ],
      "execution_count": 8,
      "outputs": [
        {
          "output_type": "execute_result",
          "data": {
            "text/html": [
              "<div>\n",
              "<style scoped>\n",
              "    .dataframe tbody tr th:only-of-type {\n",
              "        vertical-align: middle;\n",
              "    }\n",
              "\n",
              "    .dataframe tbody tr th {\n",
              "        vertical-align: top;\n",
              "    }\n",
              "\n",
              "    .dataframe thead th {\n",
              "        text-align: right;\n",
              "    }\n",
              "</style>\n",
              "<table border=\"1\" class=\"dataframe\">\n",
              "  <thead>\n",
              "    <tr style=\"text-align: right;\">\n",
              "      <th></th>\n",
              "      <th>Priority</th>\n",
              "      <th>drop hex</th>\n",
              "      <th>drop hex  lat</th>\n",
              "      <th>drop hex lon</th>\n",
              "      <th>avg_daily_sessions/supply</th>\n",
              "      <th>matched</th>\n",
              "    </tr>\n",
              "  </thead>\n",
              "  <tbody>\n",
              "    <tr>\n",
              "      <th>0</th>\n",
              "      <td>1</td>\n",
              "      <td>8960144b4dbffff</td>\n",
              "      <td>13.084574</td>\n",
              "      <td>77.485690</td>\n",
              "      <td>122.071429</td>\n",
              "      <td>[53163, 51917, 48693, 50247, 52894, 52876]</td>\n",
              "    </tr>\n",
              "    <tr>\n",
              "      <th>1</th>\n",
              "      <td>2</td>\n",
              "      <td>8960144b4c3ffff</td>\n",
              "      <td>13.083513</td>\n",
              "      <td>77.482666</td>\n",
              "      <td>112.857143</td>\n",
              "      <td>[52480, 50419]</td>\n",
              "    </tr>\n",
              "    <tr>\n",
              "      <th>2</th>\n",
              "      <td>3</td>\n",
              "      <td>89601696927ffff</td>\n",
              "      <td>13.089918</td>\n",
              "      <td>77.483974</td>\n",
              "      <td>110.500000</td>\n",
              "      <td>[53046, 48823]</td>\n",
              "    </tr>\n",
              "    <tr>\n",
              "      <th>3</th>\n",
              "      <td>4</td>\n",
              "      <td>8960145b547ffff</td>\n",
              "      <td>12.977496</td>\n",
              "      <td>77.570524</td>\n",
              "      <td>90.571429</td>\n",
              "      <td>[49529, 41168, 50528]</td>\n",
              "    </tr>\n",
              "    <tr>\n",
              "      <th>4</th>\n",
              "      <td>5</td>\n",
              "      <td>896016965cbffff</td>\n",
              "      <td>13.078991</td>\n",
              "      <td>77.580048</td>\n",
              "      <td>85.571429</td>\n",
              "      <td>[46731, 50050, 52919]</td>\n",
              "    </tr>\n",
              "  </tbody>\n",
              "</table>\n",
              "</div>"
            ],
            "text/plain": [
              "   Priority  ...                                     matched\n",
              "0         1  ...  [53163, 51917, 48693, 50247, 52894, 52876]\n",
              "1         2  ...                              [52480, 50419]\n",
              "2         3  ...                              [53046, 48823]\n",
              "3         4  ...                       [49529, 41168, 50528]\n",
              "4         5  ...                       [46731, 50050, 52919]\n",
              "\n",
              "[5 rows x 6 columns]"
            ]
          },
          "metadata": {},
          "execution_count": 8
        }
      ]
    },
    {
      "cell_type": "code",
      "metadata": {
        "colab": {
          "base_uri": "https://localhost:8080/",
          "height": 203
        },
        "id": "y48ydaP1tkR-",
        "outputId": "c8d1a39b-9850-4795-da24-ce67434e53bd"
      },
      "source": [
        "pickup2=pickup2.drop(['dist','matched'],axis=1)\n",
        "pickup2.head()"
      ],
      "execution_count": 9,
      "outputs": [
        {
          "output_type": "execute_result",
          "data": {
            "text/html": [
              "<div>\n",
              "<style scoped>\n",
              "    .dataframe tbody tr th:only-of-type {\n",
              "        vertical-align: middle;\n",
              "    }\n",
              "\n",
              "    .dataframe tbody tr th {\n",
              "        vertical-align: top;\n",
              "    }\n",
              "\n",
              "    .dataframe thead th {\n",
              "        text-align: right;\n",
              "    }\n",
              "</style>\n",
              "<table border=\"1\" class=\"dataframe\">\n",
              "  <thead>\n",
              "    <tr style=\"text-align: right;\">\n",
              "      <th></th>\n",
              "      <th>Priority order</th>\n",
              "      <th>bike_id</th>\n",
              "      <th>lat</th>\n",
              "      <th>lon</th>\n",
              "    </tr>\n",
              "  </thead>\n",
              "  <tbody>\n",
              "    <tr>\n",
              "      <th>0</th>\n",
              "      <td>1</td>\n",
              "      <td>52447</td>\n",
              "      <td>13.027514</td>\n",
              "      <td>77.723228</td>\n",
              "    </tr>\n",
              "    <tr>\n",
              "      <th>1</th>\n",
              "      <td>2</td>\n",
              "      <td>52264</td>\n",
              "      <td>13.037857</td>\n",
              "      <td>77.705032</td>\n",
              "    </tr>\n",
              "    <tr>\n",
              "      <th>2</th>\n",
              "      <td>3</td>\n",
              "      <td>51500</td>\n",
              "      <td>12.937877</td>\n",
              "      <td>77.751419</td>\n",
              "    </tr>\n",
              "    <tr>\n",
              "      <th>3</th>\n",
              "      <td>4</td>\n",
              "      <td>52611</td>\n",
              "      <td>13.091736</td>\n",
              "      <td>77.564781</td>\n",
              "    </tr>\n",
              "    <tr>\n",
              "      <th>4</th>\n",
              "      <td>5</td>\n",
              "      <td>47965</td>\n",
              "      <td>12.959291</td>\n",
              "      <td>77.727295</td>\n",
              "    </tr>\n",
              "  </tbody>\n",
              "</table>\n",
              "</div>"
            ],
            "text/plain": [
              "   Priority order  bike_id        lat        lon\n",
              "0               1    52447  13.027514  77.723228\n",
              "1               2    52264  13.037857  77.705032\n",
              "2               3    51500  12.937877  77.751419\n",
              "3               4    52611  13.091736  77.564781\n",
              "4               5    47965  12.959291  77.727295"
            ]
          },
          "metadata": {},
          "execution_count": 9
        }
      ]
    }
  ]
}